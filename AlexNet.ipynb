{
  "nbformat": 4,
  "nbformat_minor": 0,
  "metadata": {
    "colab": {
      "name": "AlexNet.ipynb",
      "provenance": [],
      "mount_file_id": "1a2QdX3UNiTGyb1fpKZKdDFxcdq9hgQUI",
      "authorship_tag": "ABX9TyNra/xUojjU2m93VfhdATRg",
      "include_colab_link": true
    },
    "kernelspec": {
      "name": "python3",
      "display_name": "Python 3"
    },
    "accelerator": "GPU"
  },
  "cells": [
    {
      "cell_type": "markdown",
      "metadata": {
        "id": "view-in-github",
        "colab_type": "text"
      },
      "source": [
        "<a href=\"https://colab.research.google.com/github/Bertrand-gbt/Projet/blob/master/AlexNet.ipynb\" target=\"_parent\"><img src=\"https://colab.research.google.com/assets/colab-badge.svg\" alt=\"Open In Colab\"/></a>"
      ]
    },
    {
      "cell_type": "markdown",
      "metadata": {
        "id": "J_hZzrrZWMfA",
        "colab_type": "text"
      },
      "source": [
        "Commençons par importer nos images."
      ]
    },
    {
      "cell_type": "markdown",
      "metadata": {
        "id": "cp8gxrgzWWPK",
        "colab_type": "text"
      },
      "source": [
        "Ici nous testons notre modèle avec des données qui sont des vraies photos ou alors des photos retoucher, le but étant de déterminer si elles ont été retouchées."
      ]
    },
    {
      "cell_type": "code",
      "metadata": {
        "id": "CqXs_TSJ1hGg",
        "colab_type": "code",
        "colab": {}
      },
      "source": [
        "from skimage import io\n",
        "import glob"
      ],
      "execution_count": 0,
      "outputs": []
    },
    {
      "cell_type": "code",
      "metadata": {
        "id": "q--bCbJj_6r9",
        "colab_type": "code",
        "colab": {}
      },
      "source": [
        "import numpy as np"
      ],
      "execution_count": 0,
      "outputs": []
    },
    {
      "cell_type": "code",
      "metadata": {
        "id": "wEdCaPmy1p_E",
        "colab_type": "code",
        "colab": {}
      },
      "source": [
        "X_true = []\n",
        "X_false = []"
      ],
      "execution_count": 0,
      "outputs": []
    },
    {
      "cell_type": "code",
      "metadata": {
        "id": "LReivHP41kdz",
        "colab_type": "code",
        "colab": {}
      },
      "source": [
        "for filename in glob.glob('/content/drive/My Drive/Projet/True_trainset/*.png'):\n",
        "    im = io.imread(filename)\n",
        "    X_true.append(im)"
      ],
      "execution_count": 0,
      "outputs": []
    },
    {
      "cell_type": "code",
      "metadata": {
        "id": "ph-2etMx160g",
        "colab_type": "code",
        "colab": {}
      },
      "source": [
        "X_true = np.array(X_true)"
      ],
      "execution_count": 0,
      "outputs": []
    },
    {
      "cell_type": "code",
      "metadata": {
        "id": "OHXEmco1AdpY",
        "colab_type": "code",
        "colab": {
          "base_uri": "https://localhost:8080/",
          "height": 34
        },
        "outputId": "0e009336-6634-4239-b44b-8cedd3b87063"
      },
      "source": [
        "Y_true = np.array([[1,0] for k in range(1081)])\n",
        "Y_true.shape"
      ],
      "execution_count": 55,
      "outputs": [
        {
          "output_type": "execute_result",
          "data": {
            "text/plain": [
              "(1081, 2)"
            ]
          },
          "metadata": {
            "tags": []
          },
          "execution_count": 55
        }
      ]
    },
    {
      "cell_type": "code",
      "metadata": {
        "id": "nffd_P2O6WmK",
        "colab_type": "code",
        "colab": {}
      },
      "source": [
        "for filename in glob.glob('/content/drive/My Drive/Projet/False_trainset/*.png'):\n",
        "    im = io.imread(filename)\n",
        "    X_false.append(im)"
      ],
      "execution_count": 0,
      "outputs": []
    },
    {
      "cell_type": "code",
      "metadata": {
        "id": "DHmjEwi-FHlY",
        "colab_type": "code",
        "colab": {
          "base_uri": "https://localhost:8080/",
          "height": 34
        },
        "outputId": "70a37ea2-1eb3-4bff-809a-468938b29197"
      },
      "source": [
        "X_false = np.array(X_false)\n",
        "X_false.shape"
      ],
      "execution_count": 43,
      "outputs": [
        {
          "output_type": "execute_result",
          "data": {
            "text/plain": [
              "(960, 227, 227, 3)"
            ]
          },
          "metadata": {
            "tags": []
          },
          "execution_count": 43
        }
      ]
    },
    {
      "cell_type": "code",
      "metadata": {
        "id": "1w-oqXouFRs3",
        "colab_type": "code",
        "colab": {
          "base_uri": "https://localhost:8080/",
          "height": 34
        },
        "outputId": "0839cdf0-cf60-4519-e121-d58191f3dd30"
      },
      "source": [
        "Y_false = np.array([[0,1] for k in range(960)])\n",
        "Y_false.shape"
      ],
      "execution_count": 56,
      "outputs": [
        {
          "output_type": "execute_result",
          "data": {
            "text/plain": [
              "(960, 2)"
            ]
          },
          "metadata": {
            "tags": []
          },
          "execution_count": 56
        }
      ]
    },
    {
      "cell_type": "code",
      "metadata": {
        "id": "kvMYaJqDFbt8",
        "colab_type": "code",
        "colab": {
          "base_uri": "https://localhost:8080/",
          "height": 34
        },
        "outputId": "4654f0f0-d402-4862-de43-b0cae4569434"
      },
      "source": [
        "X = np.concatenate((X_true,X_false),axis=0)\n",
        "X.shape"
      ],
      "execution_count": 57,
      "outputs": [
        {
          "output_type": "execute_result",
          "data": {
            "text/plain": [
              "(2041, 227, 227, 3)"
            ]
          },
          "metadata": {
            "tags": []
          },
          "execution_count": 57
        }
      ]
    },
    {
      "cell_type": "code",
      "metadata": {
        "id": "bQ8YYhYFF0pb",
        "colab_type": "code",
        "colab": {
          "base_uri": "https://localhost:8080/",
          "height": 34
        },
        "outputId": "97385d71-0785-43dd-cf69-dd8f0753354e"
      },
      "source": [
        "Y = np.concatenate((Y_true,Y_false),axis=0)\n",
        "Y.shape"
      ],
      "execution_count": 58,
      "outputs": [
        {
          "output_type": "execute_result",
          "data": {
            "text/plain": [
              "(2041, 2)"
            ]
          },
          "metadata": {
            "tags": []
          },
          "execution_count": 58
        }
      ]
    },
    {
      "cell_type": "markdown",
      "metadata": {
        "id": "RypWLYYKWssW",
        "colab_type": "text"
      },
      "source": [
        "Maintenant nous allons créer le modèle et par la suite l'entraîner sur nos images."
      ]
    },
    {
      "cell_type": "code",
      "metadata": {
        "id": "1BfpI2cu0yCN",
        "colab_type": "code",
        "colab": {}
      },
      "source": [
        "import keras\n",
        "from keras import backend as K\n",
        "from keras.models import Sequential\n",
        "from keras.layers import Dense, Conv2D, Flatten, MaxPool2D\n",
        "from keras.optimizers import Adam,SGD,Adagrad,Adadelta,RMSprop\n",
        "from keras.utils import to_categorical"
      ],
      "execution_count": 0,
      "outputs": []
    },
    {
      "cell_type": "code",
      "metadata": {
        "id": "zR2BA7at1YT9",
        "colab_type": "code",
        "colab": {}
      },
      "source": [
        "model = Sequential()\n",
        "\n",
        "# 1st Convolutional Layer\n",
        "model.add(Conv2D(filters=96, input_shape=(227,227,3), kernel_size=(11,11), strides=(4,4), padding=\"valid\", activation = \"relu\"))\n",
        "\n",
        "# Max Pooling\n",
        "model.add(MaxPool2D(pool_size=(3,3), strides=(2,2), padding=\"valid\"))\n",
        "\n",
        "# 2nd Convolutional Layer\n",
        "model.add(Conv2D(filters=256, kernel_size=(5,5), strides=(1,1), padding=\"same\", activation = \"relu\"))\n",
        "\n",
        "# Max Pooling\n",
        "model.add(MaxPool2D(pool_size=(3,3), strides=(2,2), padding=\"valid\"))\n",
        "\n",
        "# 3rd Convolutional Layer\n",
        "model.add(Conv2D(filters=384, kernel_size=(3,3), strides=(1,1), padding=\"same\", activation = \"relu\"))\n",
        "\n",
        "# 4th Convolutional Layer\n",
        "model.add(Conv2D(filters=384, kernel_size=(3,3), strides=(1,1), padding=\"same\", activation = \"relu\"))\n",
        "\n",
        "# 5th Convolutional Layer\n",
        "model.add(Conv2D(filters=256, kernel_size=(3,3), strides=(1,1), padding=\"same\", activation = \"relu\"))\n",
        "\n",
        "# Max Pooling\n",
        "model.add(MaxPool2D(pool_size=(3,3), strides=(2,2), padding=\"valid\"))\n",
        "\n",
        "# Passing it to a Fully Connected layer\n",
        "model.add(Flatten())\n",
        "# 1st Fully Connected Layer\n",
        "model.add(Dense(units = 9216, activation = \"relu\"))\n",
        "\n",
        "# 2nd Fully Connected Layer\n",
        "model.add(Dense(units = 4096, activation = \"relu\"))\n",
        "\n",
        "# 3rd Fully Connected Layer\n",
        "model.add(Dense(4096, activation = \"relu\"))\n",
        "\n",
        "# Output Layer\n",
        "model.add(Dense(2, activation = \"softmax\")) #As we have two classes"
      ],
      "execution_count": 0,
      "outputs": []
    },
    {
      "cell_type": "code",
      "metadata": {
        "id": "u64pFBQ91aNQ",
        "colab_type": "code",
        "colab": {}
      },
      "source": [
        "from keras.optimizers import Adam\n",
        "opt = Adam(lr=0.001)\n",
        "model.compile(optimizer=opt, loss=keras.losses.categorical_crossentropy, metrics=['accuracy'])"
      ],
      "execution_count": 0,
      "outputs": []
    },
    {
      "cell_type": "code",
      "metadata": {
        "id": "qTL7ukXT1fYE",
        "colab_type": "code",
        "outputId": "9180715c-78df-429b-894b-74ab7ff339eb",
        "colab": {
          "base_uri": "https://localhost:8080/",
          "height": 628
        }
      },
      "source": [
        "model.summary()"
      ],
      "execution_count": 74,
      "outputs": [
        {
          "output_type": "stream",
          "text": [
            "Model: \"sequential_3\"\n",
            "_________________________________________________________________\n",
            "Layer (type)                 Output Shape              Param #   \n",
            "=================================================================\n",
            "conv2d_11 (Conv2D)           (None, 55, 55, 96)        34944     \n",
            "_________________________________________________________________\n",
            "max_pooling2d_7 (MaxPooling2 (None, 27, 27, 96)        0         \n",
            "_________________________________________________________________\n",
            "conv2d_12 (Conv2D)           (None, 27, 27, 256)       614656    \n",
            "_________________________________________________________________\n",
            "max_pooling2d_8 (MaxPooling2 (None, 13, 13, 256)       0         \n",
            "_________________________________________________________________\n",
            "conv2d_13 (Conv2D)           (None, 13, 13, 384)       885120    \n",
            "_________________________________________________________________\n",
            "conv2d_14 (Conv2D)           (None, 13, 13, 384)       1327488   \n",
            "_________________________________________________________________\n",
            "conv2d_15 (Conv2D)           (None, 13, 13, 256)       884992    \n",
            "_________________________________________________________________\n",
            "max_pooling2d_9 (MaxPooling2 (None, 6, 6, 256)         0         \n",
            "_________________________________________________________________\n",
            "flatten_3 (Flatten)          (None, 9216)              0         \n",
            "_________________________________________________________________\n",
            "dense_9 (Dense)              (None, 9216)              84943872  \n",
            "_________________________________________________________________\n",
            "dense_10 (Dense)             (None, 4096)              37752832  \n",
            "_________________________________________________________________\n",
            "dense_11 (Dense)             (None, 4096)              16781312  \n",
            "_________________________________________________________________\n",
            "dense_12 (Dense)             (None, 2)                 8194      \n",
            "=================================================================\n",
            "Total params: 143,233,410\n",
            "Trainable params: 143,233,410\n",
            "Non-trainable params: 0\n",
            "_________________________________________________________________\n"
          ],
          "name": "stdout"
        }
      ]
    },
    {
      "cell_type": "code",
      "metadata": {
        "id": "9a8Q25wAGKND",
        "colab_type": "code",
        "colab": {}
      },
      "source": [
        "from sklearn.model_selection import train_test_split\n",
        "\n",
        "X_train, X_test, y_train, y_test = train_test_split(X, Y, test_size=0.2, random_state=0)"
      ],
      "execution_count": 0,
      "outputs": []
    },
    {
      "cell_type": "code",
      "metadata": {
        "id": "CejZKMQ7JOG0",
        "colab_type": "code",
        "colab": {
          "base_uri": "https://localhost:8080/",
          "height": 772
        },
        "outputId": "5799b9c9-1742-4d21-ac44-10d2778e5ce0"
      },
      "source": [
        "model.fit(x=X_train,     \n",
        "            y=y_train, \n",
        "            batch_size=50, \n",
        "            epochs=20, \n",
        "            verbose=1, \n",
        "            validation_data=(X_test,y_test),\n",
        "            shuffle=True)"
      ],
      "execution_count": 75,
      "outputs": [
        {
          "output_type": "stream",
          "text": [
            "Train on 1632 samples, validate on 409 samples\n",
            "Epoch 1/20\n",
            "1632/1632 [==============================] - 6s 3ms/step - loss: 7.4983 - acc: 0.5214 - val_loss: 7.2906 - val_acc: 0.5477\n",
            "Epoch 2/20\n",
            "1632/1632 [==============================] - 3s 2ms/step - loss: 7.6541 - acc: 0.5251 - val_loss: 7.2906 - val_acc: 0.5477\n",
            "Epoch 3/20\n",
            "1632/1632 [==============================] - 3s 2ms/step - loss: 7.6541 - acc: 0.5251 - val_loss: 7.2906 - val_acc: 0.5477\n",
            "Epoch 4/20\n",
            "1632/1632 [==============================] - 3s 2ms/step - loss: 7.6541 - acc: 0.5251 - val_loss: 7.2906 - val_acc: 0.5477\n",
            "Epoch 5/20\n",
            "1632/1632 [==============================] - 3s 2ms/step - loss: 7.6541 - acc: 0.5251 - val_loss: 7.2906 - val_acc: 0.5477\n",
            "Epoch 6/20\n",
            "1632/1632 [==============================] - 3s 2ms/step - loss: 7.6541 - acc: 0.5251 - val_loss: 7.2906 - val_acc: 0.5477\n",
            "Epoch 7/20\n",
            "1632/1632 [==============================] - 3s 2ms/step - loss: 7.6541 - acc: 0.5251 - val_loss: 7.2906 - val_acc: 0.5477\n",
            "Epoch 8/20\n",
            "1632/1632 [==============================] - 3s 2ms/step - loss: 7.6541 - acc: 0.5251 - val_loss: 7.2906 - val_acc: 0.5477\n",
            "Epoch 9/20\n",
            "1632/1632 [==============================] - 3s 2ms/step - loss: 7.6541 - acc: 0.5251 - val_loss: 7.2906 - val_acc: 0.5477\n",
            "Epoch 10/20\n",
            "1632/1632 [==============================] - 3s 2ms/step - loss: 7.6541 - acc: 0.5251 - val_loss: 7.2906 - val_acc: 0.5477\n",
            "Epoch 11/20\n",
            "1632/1632 [==============================] - 3s 2ms/step - loss: 7.6541 - acc: 0.5251 - val_loss: 7.2906 - val_acc: 0.5477\n",
            "Epoch 12/20\n",
            "1632/1632 [==============================] - 3s 2ms/step - loss: 7.6541 - acc: 0.5251 - val_loss: 7.2906 - val_acc: 0.5477\n",
            "Epoch 13/20\n",
            "1632/1632 [==============================] - 3s 2ms/step - loss: 7.6541 - acc: 0.5251 - val_loss: 7.2906 - val_acc: 0.5477\n",
            "Epoch 14/20\n",
            "1632/1632 [==============================] - 3s 2ms/step - loss: 7.6541 - acc: 0.5251 - val_loss: 7.2906 - val_acc: 0.5477\n",
            "Epoch 15/20\n",
            "1632/1632 [==============================] - 3s 2ms/step - loss: 7.6541 - acc: 0.5251 - val_loss: 7.2906 - val_acc: 0.5477\n",
            "Epoch 16/20\n",
            "1632/1632 [==============================] - 3s 2ms/step - loss: 7.6541 - acc: 0.5251 - val_loss: 7.2906 - val_acc: 0.5477\n",
            "Epoch 17/20\n",
            "1632/1632 [==============================] - 3s 2ms/step - loss: 7.6541 - acc: 0.5251 - val_loss: 7.2906 - val_acc: 0.5477\n",
            "Epoch 18/20\n",
            "1632/1632 [==============================] - 3s 2ms/step - loss: 7.6541 - acc: 0.5251 - val_loss: 7.2906 - val_acc: 0.5477\n",
            "Epoch 19/20\n",
            "1632/1632 [==============================] - 3s 2ms/step - loss: 7.6541 - acc: 0.5251 - val_loss: 7.2906 - val_acc: 0.5477\n",
            "Epoch 20/20\n",
            "1632/1632 [==============================] - 3s 2ms/step - loss: 7.6541 - acc: 0.5251 - val_loss: 7.2906 - val_acc: 0.5477\n"
          ],
          "name": "stdout"
        },
        {
          "output_type": "execute_result",
          "data": {
            "text/plain": [
              "<keras.callbacks.History at 0x7fbb8c068630>"
            ]
          },
          "metadata": {
            "tags": []
          },
          "execution_count": 75
        }
      ]
    },
    {
      "cell_type": "code",
      "metadata": {
        "id": "HjZ_iDWwNehK",
        "colab_type": "code",
        "colab": {
          "base_uri": "https://localhost:8080/",
          "height": 70
        },
        "outputId": "0405f079-e1d0-47d4-cb47-f767e9c5f0b1"
      },
      "source": [
        "from sklearn.metrics import r2_score\n",
        "from sklearn.metrics import mean_squared_error\n",
        "from sklearn.metrics import mean_absolute_error\n",
        "\n",
        "y_pred = model.predict(X_test)\n",
        "\n",
        "print('Score R²: %.4f' % r2_score(y_test,y_pred))\n",
        "print('Erreur quadratique moyenne : %.4f' % mean_squared_error(y_test,y_pred))\n",
        "print('Erreur absolue moyenne : %.4f' % mean_absolute_error(y_test,y_pred))"
      ],
      "execution_count": 76,
      "outputs": [
        {
          "output_type": "stream",
          "text": [
            "Score R²: -0.8259\n",
            "Erreur quadratique moyenne : 0.4523\n",
            "Erreur absolue moyenne : 0.4523\n"
          ],
          "name": "stdout"
        }
      ]
    },
    {
      "cell_type": "code",
      "metadata": {
        "id": "mSKTwd2wVz_D",
        "colab_type": "code",
        "colab": {}
      },
      "source": [
        ""
      ],
      "execution_count": 0,
      "outputs": []
    }
  ]
}